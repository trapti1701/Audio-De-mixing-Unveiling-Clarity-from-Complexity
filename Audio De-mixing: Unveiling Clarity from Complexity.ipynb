{
 "cells": [
  {
   "cell_type": "code",
   "execution_count": 9,
   "id": "c645c5a8",
   "metadata": {},
   "outputs": [],
   "source": [
    "\n",
    "from scipy.io import wavfile\n",
    "from scipy.signal import butter, filtfilt \n",
    "from sklearn.decomposition import FastICA \n",
    "import numpy as np\n",
    "import matplotlib.pyplot as plt\n"
   ]
  },
  {
   "cell_type": "code",
   "execution_count": 10,
   "id": "601cddc8",
   "metadata": {},
   "outputs": [],
   "source": [
    "\n",
    "# Load mixed signals\n",
    "\n",
    "mix_1_rate, mix_1_data = wavfile.read('/Users/triptidutta/Downloads/mix_1.wav') \n",
    "mix_2_rate, mix_2_data = wavfile.read('/Users/triptidutta/Downloads/mix_2.wav') \n",
    "mix_3_rate, mix_3_data = wavfile.read('/Users/triptidutta/Downloads/mix_3.wav') \n",
    "mix_4_rate, mix_4_data = wavfile.read('/Users/triptidutta/Downloads/mix_4.wav') \n",
    "mix_5_rate, mix_5_data = wavfile.read('/Users/triptidutta/Downloads/mix_5.wav')\n",
    "\n"
   ]
  },
  {
   "cell_type": "code",
   "execution_count": 11,
   "id": "e762a832",
   "metadata": {},
   "outputs": [],
   "source": [
    "# Perform FastICA to unmix the signals\n",
    "\n",
    "mix_signals = np.column_stack((mix_1_data, mix_2_data, mix_3_data, mix_4_data, mix_5_data)) \n",
    "ica = FastICA(n_components=5)\n",
    "unmixed_signals = ica.fit_transform(mix_signals)\n",
    "\n"
   ]
  },
  {
   "cell_type": "code",
   "execution_count": 12,
   "id": "eb980a3e",
   "metadata": {},
   "outputs": [],
   "source": [
    "# Rescale the unmixed signals to range from -1 to 1\n",
    "def rescale_signal(signal):\n",
    "    return 2 * ((signal - np.min(signal)) / (np.max(signal) - np.min(signal))) - 1\n",
    "\n",
    "unmixed_signals_rescaled = np.array([rescale_signal(signal) for signal in unmixed_signals.T]).T\n",
    "\n"
   ]
  },
  {
   "cell_type": "code",
   "execution_count": 13,
   "id": "51d22a41",
   "metadata": {},
   "outputs": [],
   "source": [
    "# Write out the unmixed signals as float32\n",
    "\n",
    "wavfile.write('unmixed_1.wav', mix_1_rate, unmixed_signals_rescaled[:, 0].astype(np.float32))\n",
    "wavfile.write('unmixed_2.wav', mix_2_rate, unmixed_signals_rescaled[:, 1].astype(np.float32)) \n",
    "wavfile.write('unmixed_3.wav', mix_3_rate, unmixed_signals_rescaled[:, 2].astype(np.float32)) \n",
    "wavfile.write('unmixed_4.wav', mix_4_rate, unmixed_signals_rescaled[:, 3].astype(np.float32)) \n",
    "wavfile.write('unmixed_5.wav', mix_5_rate, unmixed_signals_rescaled[:, 4].astype(np.float32))"
   ]
  },
  {
   "cell_type": "code",
   "execution_count": null,
   "id": "28b22b2e",
   "metadata": {},
   "outputs": [],
   "source": []
  }
 ],
 "metadata": {
  "kernelspec": {
   "display_name": "Python 3 (ipykernel)",
   "language": "python",
   "name": "python3"
  },
  "language_info": {
   "codemirror_mode": {
    "name": "ipython",
    "version": 3
   },
   "file_extension": ".py",
   "mimetype": "text/x-python",
   "name": "python",
   "nbconvert_exporter": "python",
   "pygments_lexer": "ipython3",
   "version": "3.11.5"
  }
 },
 "nbformat": 4,
 "nbformat_minor": 5
}
